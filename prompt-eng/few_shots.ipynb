{
 "cells": [
  {
   "cell_type": "markdown",
   "metadata": {},
   "source": [
    "\n",
    "\n"
   ]
  },
  {
   "cell_type": "markdown",
   "metadata": {},
   "source": [
    "# Few-Shots Prompting\n",
    "\n",
    "Few-shot prompting can be used as a technique to enable in-context learning where we provide demonstrations in the prompt to steer the model to better performance. The demonstrations serve as conditioning for subsequent examples where we would like the model to generate a response.\n",
    "\n",
    "## References:\n",
    "* [Touvron et al. 2023](https://arxiv.org/pdf/2302.13971.pdf): present few shot properties  when models were scaled to a sufficient size\n",
    "* [Kaplan et al., 2020](https://arxiv.org/abs/2001.08361)\n",
    "* [Brown et al. 2020](https://arxiv.org/abs/2005.14165)\n"
   ]
  },
  {
   "cell_type": "markdown",
   "metadata": {},
   "source": [
    "## Running this code on MyBind.org\n",
    "\n",
    "Note: remember that you will need to **adjust CONFIG** with **proper URL and API_KEY**!\n",
    "\n",
    "[![Binder](https://mybinder.org/badge_logo.svg)](https://mybinder.org/v2/gh/GenILab-FAU/prompt-eng/HEAD?urlpath=%2Fdoc%2Ftree%2Fprompt-eng%2Ffew_shots.ipynb)\n",
    "\n"
   ]
  },
  {
   "cell_type": "code",
   "execution_count": 2,
   "metadata": {},
   "outputs": [
    {
     "name": "stdout",
     "output_type": "stream",
     "text": [
      " Title: Discord AI Document Question Bot\n",
      "\n",
      "1. **Functional Requirements:**\n",
      "\n",
      "   A1. The bot should be able to join, stay in, and leave specific Discord servers by using the appropriate API functions.\n",
      "\n",
      "   A2. Users should be able to upload documents within a defined file size limit (e.g., 5MB) via the chat interface using standard file attachment methods.\n",
      "\n",
      "   A3. The bot should have the ability to parse and extract useful information from various document formats, including but not limited to PDF, DOCX, and TXT.\n",
      "\n",
      "   A4. Users should be able to ask questions about the uploaded documents or specific topics using natural language processing (NLP).\n",
      "\n",
      "   A5. The bot should utilize an AI model for question answering, capable of understanding complex sentences and providing accurate responses.\n",
      "\n",
      "   A6. The bot should have access to bootcamp-related documentation to provide answers related to that content.\n",
      "\n",
      "   A7. Users should receive the bot's responses directly in the chat interface.\n",
      "\n",
      "   A8. The bot should be able to recognize when a user asks about bootcamp documents and provide relevant answers based on its knowledge of those documents.\n",
      "\n",
      "2. **Non-Functional Requirements:**\n",
      "\n",
      "   N1. The bot should have minimal latency when processing user requests, aiming for a response time of under 5 seconds.\n",
      "\n",
      "   N2. The bot should be scalable and able to handle multiple simultaneous user interactions without significant performance degradation.\n",
      "\n",
      "   N3. The bot should maintain the privacy and security of users' documents by only accessing necessary information for answering questions.\n",
      "\n",
      "   N4. The bot should be designed with a clean, intuitive user interface that is easy for users to interact with.\n",
      "\n",
      "   N5. The bot should be compatible with Discord's API version 10 or higher.\n",
      "\n",
      "   N6. The bot should be able to handle common errors gracefully and provide helpful error messages when necessary.\n",
      "\n",
      "3. **Performance Requirements:**\n",
      "\n",
      "   P1. The bot should process at least 50 user requests per minute during peak usage times with a success rate of over 98%.\n",
      "\n",
      "   P2. The AI model used for question answering should achieve an accuracy rate of at least 85% on custom-designed tests.\n",
      "\n",
      "4. **Security Requirements:**\n",
      "\n",
      "   S1. Users' documents should be encrypted both during transmission and while stored on the server.\n",
      "\n",
      "   S2. The bot's source code, AI models, and any other sensitive information should only be accessible to authorized personnel.\n",
      "\n",
      "   S3. The bot should comply with all relevant data protection laws and regulations, including the General Data Protection Regulation (GDPR) and the Children's Online Privacy Protection Act (COPPA).\n",
      "Time taken: 16639.303000000004s\n"
     ]
    }
   ],
   "source": [
    "##\n",
    "## FEW SHOTS PROMPTING\n",
    "##\n",
    "from clients import bootstrap_client_and_model\n",
    "from models import ModelOptions\n",
    "\n",
    "#### (1) Adjust the inbounding  Prompt, simulating inbounding requests from users or other systems\n",
    "MESSAGE = \"My project is a Discord bot. Users will be able to upload a document and ask questions to it via AI. The bot will also be aware of bootcamp documents and able to answer questions about those.\"\n",
    "\n",
    "#### (2) Instantiate Client and Model\n",
    "client, model = bootstrap_client_and_model(\"mistral:latest\")\n",
    "\n",
    "#### (3) Adjust the Prompt Engineering Technique to be applied, simulating Workflow Templates\n",
    "client.set_system_prompt(\"You are an engineer. Your job is to come up with requirements for use in requirments analysis, provide only that information. Be aware this is a school project so the scope will be more limited.\") \n",
    "\n",
    "#### (4) Set Model Options\n",
    "options = ModelOptions(temperature=0.7)\n",
    "\n",
    "#### (4) Make the request\n",
    "time, response = client.chat_completion(\n",
    "    message=MESSAGE,\n",
    "    model=model,\n",
    "    options=options\n",
    ")\n",
    "\n",
    "### YOU DONT NEED TO CONFIGURE ANYTHING ELSE FROM THIS POINT\n",
    "# Send out to the model\n",
    "print(response)\n",
    "if time: print(f'Time taken: {time}s')"
   ]
  },
  {
   "cell_type": "markdown",
   "metadata": {},
   "source": [
    "## How to improve it?\n",
    "\n",
    "Following the findings from [Min et al. (2022)](https://arxiv.org/abs/2202.12837), here are a few more tips about demonstrations/exemplars when doing few-shot:\n",
    "\n",
    "* \"the label space and the distribution of the input text specified by the demonstrations are both important (regardless of whether the labels are correct for individual inputs)\"\n",
    "* the format you use also plays a key role in performance, even if you just use random labels, this is much better than no labels at all.\n",
    "* additional results show that selecting random labels from a true distribution of labels (instead of a uniform distribution) also helps."
   ]
  }
 ],
 "metadata": {
  "kernelspec": {
   "display_name": "Python 3",
   "language": "python",
   "name": "python3"
  },
  "language_info": {
   "codemirror_mode": {
    "name": "ipython",
    "version": 3
   },
   "file_extension": ".py",
   "mimetype": "text/x-python",
   "name": "python",
   "nbconvert_exporter": "python",
   "pygments_lexer": "ipython3",
   "version": "3.13.1"
  }
 },
 "nbformat": 4,
 "nbformat_minor": 2
}
