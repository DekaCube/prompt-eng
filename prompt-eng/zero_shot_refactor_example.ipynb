{
 "cells": [
  {
   "cell_type": "markdown",
   "metadata": {},
   "source": [
    "\n",
    "\n"
   ]
  },
  {
   "cell_type": "markdown",
   "metadata": {},
   "source": [
    "# Zero-Shot Prompting\n",
    "\n",
    "Zero-shot prompting refers to a technique in prompt engineering where you provide a model with a task without any prior examples. The model is expected to understand and generate a response or complete the task purely based on the given instruction.\n",
    "\n",
    "In other words, the model is given \"zero\" prior training examples or demonstrations in the prompt and relies on its pre-trained knowledge to infer what is needed.\n",
    "\n",
    "## References:\n",
    "* [Wei et al. (2022)](https://arxiv.org/pdf/2109.01652.pdf): demonstrate how instruction tuning improves zero-shot learning "
   ]
  },
  {
   "cell_type": "markdown",
   "metadata": {},
   "source": [
    "## Running this code on MyBind.org\n",
    "\n",
    "Note: remember that you will need to **adjust CONFIG** with **proper URL and API_KEY**!\n",
    "\n",
    "[![Binder](https://mybinder.org/badge_logo.svg)](https://mybinder.org/v2/gh/GenILab-FAU/prompt-eng/HEAD?urlpath=%2Fdoc%2Ftree%2Fprompt-eng%2Fzero_shot.ipynb)\n",
    "\n"
   ]
  },
  {
   "cell_type": "code",
   "execution_count": 2,
   "metadata": {},
   "outputs": [
    {
     "name": "stdout",
     "output_type": "stream",
     "text": [
      "\n",
      "To calculate 984 \\* log(2), we need to understand the concept of logarithms. Logarithms are mathematical functions that solve multiplication problems by converting them into addition problems. Specifically, logarithm of a number \"a\" with base \"b\" is defined as:\n",
      "\n",
      "logb(a) = y if and only if a = b^y\n",
      "\n",
      "In this case, we want to calculate 984 \\* log(2), which can be written as:\n",
      "\n",
      "984 \\* log(2) = 984 \\* y\n",
      "\n",
      "where y is the result of the logarithm calculation.\n",
      "\n",
      "To find y, we need to determine the value of log(2). The logarithm of 2 is:\n",
      "\n",
      "log(2) = 1\n",
      "\n",
      "So, we can substitute this value in the equation above:\n",
      "\n",
      "984 \\* 1 = 984 \\* y\n",
      "\n",
      "Now, we can solve for y by dividing both sides of the equation by 984:\n",
      "\n",
      "y = 1 / 984\n",
      "\n",
      "Therefore, the result of 984 \\* log(2) is y = 0.0105.\n",
      "Time taken: 1969ms\n"
     ]
    }
   ],
   "source": [
    "##\n",
    "## ZERO SHOT PROMPTING\n",
    "##\n",
    "\n",
    "from config import config_factory\n",
    "from clients import ChatbotClientFactory, ChatbotClient\n",
    "\n",
    "CONFIG = config_factory() \n",
    "\n",
    "#### (1) Adjust the inbounding  Prompt, simulating inbounding requests from users or other systems\n",
    "message = \"What is 984 * log(2)\"\n",
    "\n",
    "#### (2) Adjust the Prompt Engineering Technique to be applied, simulating Workflow Templates\n",
    "prompt = message\n",
    "\n",
    "#### (3) Instantiate ChatBot Client\n",
    "client = ChatbotClientFactory.create_client(CONFIG)\n",
    "\n",
    "#### (4) Pick a model from the available models\n",
    "models = client.get_models()\n",
    "chosen_model = models[0]\n",
    "for model in models:\n",
    "    if model.name == \"llama2:latest\":\n",
    "        chosen_model = model\n",
    "\n",
    "#### (5) Send the prompt to the model and get the response\n",
    "time, response = client.chat(message=prompt,\n",
    "                             model=chosen_model,\n",
    "                             options={\n",
    "                                 \"max_tokens\": 1000,\n",
    "                                 \"temperature\": 0.7,\n",
    "                             }\n",
    ")\n",
    "print(response)\n",
    "if time: print(f'Time taken: {time}ms')"
   ]
  },
  {
   "cell_type": "markdown",
   "metadata": {},
   "source": [
    "---\n",
    "\n",
    "## How to improve it?\n",
    "\n",
    "* **Use Clear and Concise Instructions**: Be specific about the task and desired format.\n",
    "    * Bad Prompt: “Summarize this.”\n",
    "    * Good Prompt: “Summarize this paragraph in one sentence.”\n",
    "* **Add Context**: Providing background can help the model interpret ambiguous prompts better.\n",
    "* **Specify Output Format**: If a particular structure is needed, describe it in the instruction."
   ]
  }
 ],
 "metadata": {
  "kernelspec": {
   "display_name": ".venv",
   "language": "python",
   "name": "python3"
  },
  "language_info": {
   "codemirror_mode": {
    "name": "ipython",
    "version": 3
   },
   "file_extension": ".py",
   "mimetype": "text/x-python",
   "name": "python",
   "nbconvert_exporter": "python",
   "pygments_lexer": "ipython3",
   "version": "3.13.1"
  }
 },
 "nbformat": 4,
 "nbformat_minor": 2
}
